{
 "cells": [
  {
   "cell_type": "code",
   "execution_count": null,
   "id": "8ddae087",
   "metadata": {},
   "outputs": [],
   "source": [
    "!pip install mysql-connector-python\n",
    "!pip install Faker\n",
    "!pip install django"
   ]
  },
  {
   "cell_type": "code",
   "execution_count": 1,
   "id": "ea0e899a",
   "metadata": {},
   "outputs": [],
   "source": [
    "import random\n",
    "from faker import Faker\n",
    "import mysql.connector\n",
    "from mysql.connector import Error\n",
    "import os\n",
    "from django.db import models\n",
    "from django.contrib import admin\n",
    "from django.urls import path, include"
   ]
  },
  {
   "cell_type": "code",
   "execution_count": 2,
   "id": "f45e64d9",
   "metadata": {},
   "outputs": [],
   "source": [
    "file_path = os.getcwd()"
   ]
  },
  {
   "cell_type": "code",
   "execution_count": 3,
   "id": "d99c8f5f",
   "metadata": {},
   "outputs": [
    {
     "name": "stdout",
     "output_type": "stream",
     "text": [
      "All record files have been created.\n"
     ]
    }
   ],
   "source": [
    "import random\n",
    "from faker import Faker\n",
    "fake = Faker()\n",
    "\n",
    "relation_files = {\n",
    "    'Customer': 'customer_records.txt',\n",
    "    'Book': 'book_records.txt',\n",
    "    'Author': 'author_records.txt',\n",
    "    'Publisher': 'publisher_records.txt',\n",
    "    'Order': 'order_records.txt',\n",
    "    'BookAuthor': 'book_author_records.txt',\n",
    "    'OrderBook': 'order_book_records.txt',\n",
    "    'AuthorPublisher': 'author_publisher_records.txt'\n",
    "}\n",
    "\n",
    "num_records = 10000\n",
    "\n",
    "# Generate Customer records\n",
    "with open(relation_files['Customer'], 'w') as f:\n",
    "    myEmailSet = set()\n",
    "    for i in range(1, num_records + 1):\n",
    "        email = fake.email()\n",
    "        while email in myEmailSet:\n",
    "            email = fake.email()\n",
    "        myEmailSet.add(email)\n",
    "        record = f\"{i};{fake.first_name()};{fake.last_name()};{email};{fake.phone_number()};\"\n",
    "        record += fake.address().replace('\\n', ', ') + \"\\n\"\n",
    "        f.write(record)\n",
    "\n",
    "# Generate Book records\n",
    "with open(relation_files['Book'], 'w') as f:\n",
    "    myISBNSet = set()\n",
    "    for i in range(1, num_records + 1):\n",
    "        isbn = fake.isbn13()\n",
    "        while isbn in myISBNSet:\n",
    "            isbn = fake.isbn13()\n",
    "        myISBNSet.add(isbn)\n",
    "        record = f\"{i};{fake.sentence()[:-1]};{isbn};{fake.date_between(start_date='-10y', end_date='today')};{random.uniform(1, 100):.2f};{random.randint(1, num_records)}\\n\"\n",
    "        f.write(record)\n",
    "\n",
    "# Generate Author records\n",
    "with open(relation_files['Author'], 'w') as f:\n",
    "    for i in range(1, num_records + 1):\n",
    "        record = f\"{i};{fake.first_name()};{fake.last_name()};{fake.date_of_birth(tzinfo=None, minimum_age=20, maximum_age=100)};\"\n",
    "        record += fake.text().replace('\\n', ' ') + \"\\n\"\n",
    "        f.write(record)\n",
    "\n",
    "# Generate Publisher records\n",
    "with open(relation_files['Publisher'], 'w') as f:\n",
    "    myEmailSet = set()\n",
    "    for i in range(1, num_records + 1):\n",
    "        email = fake.email()\n",
    "        while email in myEmailSet:\n",
    "            email = fake.email()\n",
    "        myEmailSet.add(email)\n",
    "        record = f\"{i};{fake.company()};{email};{fake.phone_number()};\"\n",
    "        record += fake.address().replace('\\n', ', ') + \"\\n\"\n",
    "        f.write(record)\n",
    "\n",
    "# Generate Order records\n",
    "with open(relation_files['Order'], 'w') as f:\n",
    "    for i in range(1, num_records + 1):\n",
    "        record = f\"{i};{random.randint(1, num_records)};{fake.date_between(start_date='-5y', end_date='today')};{random.uniform(1, 1000):.2f};\"\n",
    "        record += fake.address().replace('\\n', ', ') + \"\\n\"\n",
    "        f.write(record)\n",
    "\n",
    "# Generate BookAuthor records\n",
    "with open(relation_files['BookAuthor'], 'w') as f:\n",
    "    book_ids = random.sample(range(1, num_records + 1),num_records)\n",
    "    author_ids = random.sample(range(1, num_records + 1),num_records)\n",
    "    for i in range(num_records):\n",
    "        record = f\"{book_ids[i]};{author_ids[i]}\\n\"\n",
    "        f.write(record)\n",
    "\n",
    "# Generate OrderBook records\n",
    "with open(relation_files['OrderBook'], 'w') as f:\n",
    "    order_ids = random.sample(range(1, num_records + 1),num_records)\n",
    "    book_ids = random.sample(range(1, num_records + 1),num_records)\n",
    "    for i in range(num_records):\n",
    "        record = f\"{order_ids[i]};{book_ids[i]};{random.randint(1, 10)}\\n\"\n",
    "        f.write(record)\n",
    "\n",
    "# Generate AuthorPublisher records\n",
    "with open(relation_files['AuthorPublisher'], 'w') as f:\n",
    "    author_ids = random.sample(range(1, num_records + 1),num_records)\n",
    "    publisher_ids = random.sample(range(1, num_records + 1),num_records)\n",
    "    for i in range(num_records):\n",
    "        record = f\"{author_ids[i]};{publisher_ids[i]}\\n\"\n",
    "        f.write(record)\n",
    "\n",
    "print(\"All record files have been created.\")\n"
   ]
  },
  {
   "cell_type": "code",
   "execution_count": 4,
   "id": "2a2f82f9",
   "metadata": {},
   "outputs": [],
   "source": [
    "import mysql.connector\n",
    "from mysql.connector import Error\n",
    "\n",
    "# MySQL connection settings\n",
    "user = \"root\"\n",
    "password = \"YOUR MYSQL PASSWORD\"\n",
    "host = \"localhost\"\n",
    "database_name = \"ONLINEBOOKSTORE\"\n",
    "\n",
    "# Connect to the MySQL server\n",
    "def create_connection(database=None):\n",
    "    try:\n",
    "        connection = mysql.connector.connect(\n",
    "            host=host,\n",
    "            user=user,\n",
    "            password=password,\n",
    "            database=database\n",
    "        )\n",
    "        return connection\n",
    "    except Error as e:\n",
    "        print(f\"The error '{e}' occurred\")\n",
    "\n",
    "# Execute SQL queries\n",
    "def execute_query(connection, query):\n",
    "    cursor = connection.cursor()\n",
    "    try:\n",
    "        cursor.execute(query)\n",
    "        connection.commit()\n",
    "        print(\"Query executed successfully\")\n",
    "    except Error as e:\n",
    "        print(f\"The error '{e}' occurred\")\n",
    "        \n",
    "# Create a new database\n",
    "def create_database(connection, database_name):\n",
    "    cursor = connection.cursor()\n",
    "    try:\n",
    "        cursor.execute(f\"DROP DATABASE IF EXISTS {database_name}\")\n",
    "        cursor.execute(f\"CREATE DATABASE {database_name}\")\n",
    "        connection.commit()\n",
    "        print(f\"Database '{database_name}' created successfully\")\n",
    "    except Error as e:\n",
    "        print(f\"The error '{e}' occurred\")\n",
    "\n",
    "# Insert data into tables\n",
    "def insert_data(connection, table, columns, file):\n",
    "    cursor = connection.cursor()\n",
    "    with open(file, 'r') as f:\n",
    "        for line in f:\n",
    "            values = line.strip().split(';')\n",
    "            query = f\"INSERT INTO {table} ({columns}) VALUES ({', '.join(['%s'] * len(values))})\"\n",
    "            try:\n",
    "                cursor.execute(query, values)\n",
    "            except Exception as e:\n",
    "                print(e)\n",
    "                pass\n",
    "    connection.commit()\n",
    "    print(f\"Data inserted into {table}\")\n"
   ]
  },
  {
   "cell_type": "code",
   "execution_count": 5,
   "id": "7a2c742c",
   "metadata": {},
   "outputs": [
    {
     "name": "stdout",
     "output_type": "stream",
     "text": [
      "Database 'ONLINEBOOKSTORE' created successfully\n"
     ]
    }
   ],
   "source": [
    "# Establish connection without selecting a database\n",
    "connection = create_connection()\n",
    "\n",
    "# Create the database\n",
    "create_database(connection, database_name)\n",
    "\n",
    "# Close the initial connection\n",
    "connection.close()\n",
    "\n",
    "# Establish connection with the newly created database\n",
    "connection = create_connection(database=database_name)"
   ]
  },
  {
   "cell_type": "code",
   "execution_count": 6,
   "id": "6f5bb0b4",
   "metadata": {},
   "outputs": [],
   "source": [
    "# Create tables\n",
    "create_table_queries = [\n",
    "    '''\n",
    "    CREATE TABLE IF NOT EXISTS Customer (\n",
    "        customer_id INT AUTO_INCREMENT PRIMARY KEY,\n",
    "        first_name VARCHAR(255) NOT NULL,\n",
    "        last_name VARCHAR(255) NOT NULL,\n",
    "        email VARCHAR(255) UNIQUE NOT NULL,\n",
    "        phone_number VARCHAR(255),\n",
    "        address TEXT\n",
    "    );\n",
    "    ''',\n",
    "    '''\n",
    "    CREATE TABLE IF NOT EXISTS Book (\n",
    "        book_id INT AUTO_INCREMENT PRIMARY KEY,\n",
    "    title VARCHAR(255) NOT NULL,\n",
    "    isbn VARCHAR(255) UNIQUE NOT NULL,\n",
    "    publication_date DATE,\n",
    "    price DECIMAL(10, 2) NOT NULL,\n",
    "    publisher_id INT\n",
    ");\n",
    "''',\n",
    "'''\n",
    "CREATE TABLE IF NOT EXISTS Author (\n",
    "    author_id INT AUTO_INCREMENT PRIMARY KEY,\n",
    "    first_name VARCHAR(255) NOT NULL,\n",
    "    last_name VARCHAR(255) NOT NULL,\n",
    "    bio TEXT,\n",
    "    birth_date DATE\n",
    ");\n",
    "''',\n",
    "'''\n",
    "CREATE TABLE IF NOT EXISTS Publisher (\n",
    "    publisher_id INT AUTO_INCREMENT PRIMARY KEY,\n",
    "    name VARCHAR(255) NOT NULL,\n",
    "    address TEXT,\n",
    "    email VARCHAR(255) UNIQUE NOT NULL,\n",
    "    phone_number VARCHAR(255)\n",
    ");\n",
    "''',\n",
    "'''\n",
    "CREATE TABLE IF NOT EXISTS `Order` (\n",
    "    order_id INT AUTO_INCREMENT PRIMARY KEY,\n",
    "    customer_id INT NOT NULL,\n",
    "    order_date DATE,\n",
    "    total_amount DECIMAL(10, 2) NOT NULL,\n",
    "    shipping_address TEXT,\n",
    "    FOREIGN KEY (customer_id) REFERENCES Customer(customer_id)\n",
    ");\n",
    "''',\n",
    "'''\n",
    "CREATE TABLE IF NOT EXISTS BookAuthor (\n",
    "    book_id INT,\n",
    "    author_id INT,\n",
    "    PRIMARY KEY (book_id, author_id),\n",
    "    FOREIGN KEY (book_id) REFERENCES Book(book_id),\n",
    "    FOREIGN KEY (author_id) REFERENCES Author(author_id)\n",
    ");\n",
    "''',\n",
    "'''\n",
    "CREATE TABLE IF NOT EXISTS OrderBook (\n",
    "    order_id INT,\n",
    "    book_id INT,\n",
    "    quantity INT NOT NULL,\n",
    "    PRIMARY KEY (order_id, book_id),\n",
    "    FOREIGN KEY (order_id) REFERENCES `Order`(order_id),\n",
    "    FOREIGN KEY (book_id) REFERENCES Book(book_id)\n",
    ");\n",
    "''',\n",
    "'''\n",
    "CREATE TABLE IF NOT EXISTS AuthorPublisher (\n",
    "    author_id INT,\n",
    "    publisher_id INT,\n",
    "    PRIMARY KEY (author_id, publisher_id),\n",
    "    FOREIGN KEY (author_id) REFERENCES Author(author_id),\n",
    "    FOREIGN KEY (publisher_id) REFERENCES Publisher(publisher_id)\n",
    ");\n",
    "'''\n",
    "]"
   ]
  },
  {
   "cell_type": "code",
   "execution_count": 7,
   "id": "0f0b96cb",
   "metadata": {},
   "outputs": [
    {
     "name": "stdout",
     "output_type": "stream",
     "text": [
      "Query executed successfully\n",
      "Query executed successfully\n",
      "Query executed successfully\n",
      "Query executed successfully\n",
      "Query executed successfully\n",
      "Query executed successfully\n",
      "Query executed successfully\n",
      "Query executed successfully\n"
     ]
    }
   ],
   "source": [
    "for query in create_table_queries:\n",
    "    execute_query(connection, query)"
   ]
  },
  {
   "cell_type": "code",
   "execution_count": 8,
   "id": "24a332e5",
   "metadata": {},
   "outputs": [
    {
     "name": "stdout",
     "output_type": "stream",
     "text": [
      "Data inserted into Customer\n",
      "Data inserted into Book\n",
      "Data inserted into Author\n",
      "Data inserted into Publisher\n",
      "Data inserted into `Order`\n",
      "Data inserted into BookAuthor\n",
      "Data inserted into OrderBook\n",
      "Data inserted into AuthorPublisher\n"
     ]
    }
   ],
   "source": [
    "insert_data(connection, \"Customer\", \"customer_id, first_name, last_name, email, phone_number, address\", \"customer_records.txt\")\n",
    "insert_data(connection, \"Book\", \"book_id, title, isbn, publication_date, price, publisher_id\", \"book_records.txt\")\n",
    "insert_data(connection, \"Author\", \"author_id, first_name, last_name, birth_date, bio\", \"author_records.txt\")\n",
    "insert_data(connection, \"Publisher\", \"publisher_id, name, email, phone_number, address\", \"publisher_records.txt\")\n",
    "insert_data(connection, \"`Order`\", \"order_id, customer_id, order_date, total_amount, shipping_address\", \"order_records.txt\")\n",
    "insert_data(connection, \"BookAuthor\", \"book_id, author_id\", \"book_author_records.txt\")\n",
    "insert_data(connection, \"OrderBook\", \"order_id, book_id, quantity\", \"order_book_records.txt\")\n",
    "insert_data(connection, \"AuthorPublisher\", \"author_id, publisher_id\", \"author_publisher_records.txt\")\n"
   ]
  },
  {
   "cell_type": "code",
   "execution_count": 9,
   "id": "854a1611",
   "metadata": {},
   "outputs": [],
   "source": [
    "connection.close()"
   ]
  },
  {
   "cell_type": "code",
   "execution_count": 3,
   "id": "ba40284b",
   "metadata": {},
   "outputs": [
    {
     "name": "stdout",
     "output_type": "stream",
     "text": [
      "/Users/moeinrazavi/Educational/TAMU_Courses/CSCE 608 - Database Systems/Projects\n",
      "CommandError: '/Users/moeinrazavi/Educational/TAMU_Courses/CSCE 608 - Database Systems/Projects/book_store' already exists\n",
      "/Users/moeinrazavi/Educational/TAMU_Courses/CSCE 608 - Database Systems/Projects/book_store\n"
     ]
    }
   ],
   "source": [
    "%cd {file_path}\n",
    "!django-admin startproject book_store\n",
    "%cd book_store"
   ]
  },
  {
   "cell_type": "code",
   "execution_count": 4,
   "id": "19411a86",
   "metadata": {},
   "outputs": [
    {
     "name": "stdout",
     "output_type": "stream",
     "text": [
      "CommandError: 'bookstore_app' conflicts with the name of an existing Python module and cannot be used as an app name. Please try another name.\r\n"
     ]
    }
   ],
   "source": [
    "!python manage.py startapp bookstore_app"
   ]
  },
  {
   "cell_type": "code",
   "execution_count": 5,
   "id": "620474d1",
   "metadata": {},
   "outputs": [
    {
     "name": "stdout",
     "output_type": "stream",
     "text": [
      "No changes detected\n",
      "Operations to perform:\n",
      "  Apply all migrations: admin, auth, bookstore_app, contenttypes, sessions\n",
      "Running migrations:\n",
      "  No migrations to apply.\n"
     ]
    }
   ],
   "source": [
    "!python manage.py makemigrations\n",
    "!python manage.py migrate"
   ]
  },
  {
   "cell_type": "code",
   "execution_count": 6,
   "id": "95fc8503",
   "metadata": {},
   "outputs": [
    {
     "name": "stdout",
     "output_type": "stream",
     "text": [
      "Watching for file changes with StatReloader\n",
      "Performing system checks...\n",
      "\n",
      "System check identified no issues (0 silenced).\n",
      "March 21, 2023 - 18:07:06\n",
      "Django version 4.1.7, using settings 'book_store.settings'\n",
      "Starting development server at http://127.0.0.1:8000/\n",
      "Quit the server with CONTROL-C.\n",
      "[21/Mar/2023 18:07:07] \"GET / HTTP/1.1\" 200 611\n",
      "[21/Mar/2023 18:07:07] \"GET /static/css/styles.css HTTP/1.1\" 404 1902\n",
      "Not Found: /favicon.ico\n",
      "[21/Mar/2023 18:07:07] \"GET /favicon.ico HTTP/1.1\" 404 3312\n",
      "[21/Mar/2023 18:07:10] \"GET /list_customers/ HTTP/1.1\" 200 1722279\n",
      "[21/Mar/2023 18:07:10] \"GET /static/css/styles.css HTTP/1.1\" 404 1902\n",
      "[21/Mar/2023 18:12:23] \"GET /list_customers/ HTTP/1.1\" 200 1722279\n",
      "[21/Mar/2023 18:12:23] \"GET /static/css/styles.css HTTP/1.1\" 404 1902\n",
      "[21/Mar/2023 18:12:26] \"GET /list_customers/ HTTP/1.1\" 200 1722279\n",
      "[21/Mar/2023 18:12:26] \"GET /static/css/styles.css HTTP/1.1\" 404 1902\n",
      "[21/Mar/2023 18:12:49] \"GET /list_customers/ HTTP/1.1\" 200 1722688\n",
      "[21/Mar/2023 18:12:54] \"GET /list_customers/ HTTP/1.1\" 200 1722688\n",
      "/Users/moeinrazavi/Educational/TAMU_Courses/CSCE 608 - Database Systems/Projects/book_store/book_store/urls.py changed, reloading.\n",
      "Watching for file changes with StatReloader\n",
      "Performing system checks...\n",
      "\n",
      "System check identified no issues (0 silenced).\n",
      "March 21, 2023 - 18:13:22\n",
      "Django version 4.1.7, using settings 'book_store.settings'\n",
      "Starting development server at http://127.0.0.1:8000/\n",
      "Quit the server with CONTROL-C.\n",
      "[21/Mar/2023 18:13:46] \"GET /list_customers/ HTTP/1.1\" 200 1722249\n",
      "[21/Mar/2023 18:13:53] \"GET / HTTP/1.1\" 200 1020\n",
      "[21/Mar/2023 18:13:57] \"GET /add_customer/ HTTP/1.1\" 200 1767\n",
      "[21/Mar/2023 18:16:08] \"GET /add_customer/ HTTP/1.1\" 200 1850\n",
      "[21/Mar/2023 18:16:10] \"GET / HTTP/1.1\" 200 1020\n",
      "[21/Mar/2023 18:16:14] \"GET /list_books/ HTTP/1.1\" 200 1848333\n",
      "[21/Mar/2023 18:16:20] \"GET /list_books/?sort_by=price_asc&price_range=50-100 HTTP/1.1\" 200 950259\n",
      "[21/Mar/2023 18:16:29] \"GET /list_books/?sort_by=price_asc&price_range=100-500 HTTP/1.1\" 200 1754\n",
      "[21/Mar/2023 18:16:31] \"GET /list_books/?sort_by=price_asc&price_range=0-50 HTTP/1.1\" 200 899936\n",
      "[21/Mar/2023 18:16:33] \"GET /list_books/?sort_by=price_desc&price_range=0-50 HTTP/1.1\" 200 899936\n",
      "[21/Mar/2023 18:17:18] \"GET / HTTP/1.1\" 200 1020\n",
      "[21/Mar/2023 18:17:20] \"GET /list_books/ HTTP/1.1\" 200 1848333\n",
      "[21/Mar/2023 18:17:22] \"GET / HTTP/1.1\" 200 1020\n",
      "[21/Mar/2023 18:17:24] \"GET /list_books/ HTTP/1.1\" 200 1848333\n",
      "[21/Mar/2023 18:17:33] \"GET /list_books/?sort_by=price_desc&price_range=all HTTP/1.1\" 200 1848341\n",
      "[21/Mar/2023 18:17:36] \"GET /list_books/?sort_by=price_asc&price_range=all HTTP/1.1\" 200 1848341\n",
      "[21/Mar/2023 18:17:41] \"GET /list_books/?sort_by=price_desc&price_range=all HTTP/1.1\" 200 1848341\n",
      "[21/Mar/2023 18:17:46] \"GET /list_books/?sort_by=price_asc&price_range=all HTTP/1.1\" 200 1848341\n",
      "[21/Mar/2023 18:17:48] \"GET / HTTP/1.1\" 200 1020\n",
      "[21/Mar/2023 18:17:50] \"GET /list_books/ HTTP/1.1\" 200 1848333\n",
      "[21/Mar/2023 18:17:53] \"GET /list_books/?sort_by=price_desc&price_range=all HTTP/1.1\" 200 1848341\n",
      "[21/Mar/2023 18:17:56] \"GET /list_books/?sort_by=price_asc&price_range=all HTTP/1.1\" 200 1848341\n",
      "[21/Mar/2023 18:17:59] \"GET /list_books/?sort_by=price_asc&price_range=0-50 HTTP/1.1\" 200 899936\n",
      "[21/Mar/2023 18:18:02] \"GET /list_books/?sort_by=price_asc&price_range=50-100 HTTP/1.1\" 200 950259\n",
      "[21/Mar/2023 18:18:06] \"GET /list_books/?sort_by=price_asc&price_range=100-500 HTTP/1.1\" 200 1754\n",
      "[21/Mar/2023 18:18:11] \"GET /list_books/?sort_by=price_asc&price_range=all HTTP/1.1\" 200 1848341\n",
      "[21/Mar/2023 18:18:26] \"GET / HTTP/1.1\" 200 1020\n",
      "[21/Mar/2023 18:18:30,049] - Broken pipe from ('127.0.0.1', 50501)\n",
      "[21/Mar/2023 18:18:30] \"GET /list_books/ HTTP/1.1\" 200 1848333\n",
      "[21/Mar/2023 18:18:31] \"GET / HTTP/1.1\" 200 1020\n",
      "[21/Mar/2023 18:18:32] \"GET /add_book/ HTTP/1.1\" 200 1779\n",
      "[21/Mar/2023 18:23:50] \"GET / HTTP/1.1\" 200 1020\n",
      "^C\n"
     ]
    }
   ],
   "source": [
    "!python manage.py runserver"
   ]
  },
  {
   "cell_type": "code",
   "execution_count": null,
   "id": "79fa96f4",
   "metadata": {},
   "outputs": [],
   "source": [
    "!python manage.py shell"
   ]
  },
  {
   "cell_type": "code",
   "execution_count": null,
   "id": "e7b66ba2",
   "metadata": {},
   "outputs": [],
   "source": []
  }
 ],
 "metadata": {
  "kernelspec": {
   "display_name": "Python 3.9 (tensorflow)",
   "language": "python",
   "name": "tensorflow"
  },
  "language_info": {
   "codemirror_mode": {
    "name": "ipython",
    "version": 3
   },
   "file_extension": ".py",
   "mimetype": "text/x-python",
   "name": "python",
   "nbconvert_exporter": "python",
   "pygments_lexer": "ipython3",
   "version": "3.9.10"
  }
 },
 "nbformat": 4,
 "nbformat_minor": 5
}
